{
 "cells": [
  {
   "cell_type": "markdown",
   "metadata": {},
   "source": [
    "Скрипты для конвертации датасета в yolo формат"
   ]
  },
  {
   "cell_type": "code",
   "execution_count": 5,
   "metadata": {},
   "outputs": [],
   "source": [
    "import os"
   ]
  },
  {
   "cell_type": "code",
   "execution_count": 8,
   "metadata": {},
   "outputs": [],
   "source": [
    "\n",
    "folders = ['data_yolo/images/train',\n",
    "           'data_yolo/images/val',\n",
    "           'data_yolo/labels/train',\n",
    "           'data_yolo/labels/val']\n",
    "\n",
    "for folder in folders:\n",
    "    os.makedirs(folder, exist_ok=True)"
   ]
  },
  {
   "cell_type": "code",
   "execution_count": 10,
   "metadata": {},
   "outputs": [
    {
     "name": "stderr",
     "output_type": "stream",
     "text": [
      "100%|██████████| 59/59 [18:15<00:00, 18.56s/it]\n"
     ]
    }
   ],
   "source": [
    "import shutil\n",
    "import json\n",
    "from tqdm import tqdm\n",
    "\n",
    "path = 'data/SoccerNetGS'\n",
    "path_to = 'data_yolo'\n",
    "split_from = 'valid'\n",
    "split_to = 'val'\n",
    "\n",
    "image_height = 1080\n",
    "image_width = 1920\n",
    "\n",
    "for video in tqdm(os.listdir(os.path.join(path, split_from))):\n",
    "    if video[:4] == 'SNGS':\n",
    "        with open(os.path.join(path, split_from, video, 'Labels-GameState.json'), 'r') as file:\n",
    "            data = json.load(file)\n",
    "\n",
    "        image_ids = set()\n",
    "\n",
    "        for annot in data['annotations']:\n",
    "            if annot['image_id'] not in image_ids: \n",
    "                image_ids.add(annot['image_id'])\n",
    "                image_name = annot['image_id'][-6:] + '.jpg'\n",
    "                shutil.copy(os.path.join(path, split_from, video, 'img1', image_name),\n",
    "                            os.path.join(path_to, 'images', split_to, annot['image_id'] + '.jpg'))\n",
    "\n",
    "                with open(os.path.join(path_to, 'labels', split_to, annot['image_id'] + '.txt'), 'w') as f:\n",
    "                    f.write(f\"\")\n",
    "\n",
    "\n",
    "            if annot['category_id'] == 4: # чекнуть\n",
    "                x = annot['bbox_image']['x_center'] / image_width\n",
    "                y = annot['bbox_image']['y_center'] / image_height\n",
    "                w = annot['bbox_image']['w'] / image_width\n",
    "                h = annot['bbox_image']['h'] / image_height\n",
    "\n",
    "                with open(os.path.join(path_to, 'labels', split_to, annot['image_id'] + '.txt'), 'a') as f:\n",
    "                    f.write(f\"0 {x} {y} {w} {h}\\n\")\n"
   ]
  },
  {
   "cell_type": "code",
   "execution_count": null,
   "metadata": {},
   "outputs": [],
   "source": []
  }
 ],
 "metadata": {
  "kernelspec": {
   "display_name": "tracklab",
   "language": "python",
   "name": "python3"
  },
  "language_info": {
   "codemirror_mode": {
    "name": "ipython",
    "version": 3
   },
   "file_extension": ".py",
   "mimetype": "text/x-python",
   "name": "python",
   "nbconvert_exporter": "python",
   "pygments_lexer": "ipython3",
   "version": "3.10.15"
  }
 },
 "nbformat": 4,
 "nbformat_minor": 4
}
