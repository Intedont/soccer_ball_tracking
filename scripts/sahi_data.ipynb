{
 "cells": [
  {
   "cell_type": "markdown",
   "metadata": {},
   "source": [
    "Скрипты для конвертации yolo в coco и нарезки sahi"
   ]
  },
  {
   "cell_type": "code",
   "execution_count": 7,
   "metadata": {},
   "outputs": [
    {
     "name": "stdout",
     "output_type": "stream",
     "text": [
      " 100% |█████████████| 42750/42750 [1.7m elapsed, 0s remaining, 440.8 samples/s]      \n",
      "Name:        2024.10.19.00.49.40\n",
      "Media type:  image\n",
      "Num samples: 42750\n",
      "Persistent:  False\n",
      "Tags:        []\n",
      "Sample fields:\n",
      "    id:               fiftyone.core.fields.ObjectIdField\n",
      "    filepath:         fiftyone.core.fields.StringField\n",
      "    tags:             fiftyone.core.fields.ListField(fiftyone.core.fields.StringField)\n",
      "    metadata:         fiftyone.core.fields.EmbeddedDocumentField(fiftyone.core.metadata.ImageMetadata)\n",
      "    created_at:       fiftyone.core.fields.DateTimeField\n",
      "    last_modified_at: fiftyone.core.fields.DateTimeField\n",
      "    ground_truth:     fiftyone.core.fields.EmbeddedDocumentField(fiftyone.core.labels.Detections)\n",
      "[<Sample: {\n",
      "    'id': '6712d7f55670ce71ca1bd0c9',\n",
      "    'media_type': 'image',\n",
      "    'filepath': '/home/madusov/sber/data_yolo/images/train/1060000001.jpg',\n",
      "    'tags': ['train'],\n",
      "    'metadata': None,\n",
      "    'created_at': datetime.datetime(2024, 10, 18, 21, 49, 41, 360000),\n",
      "    'last_modified_at': datetime.datetime(2024, 10, 18, 21, 49, 41, 360000),\n",
      "    'ground_truth': <Detections: {\n",
      "        'detections': [\n",
      "            <Detection: {\n",
      "                'id': '6712d7f55670ce71ca1bd0c8',\n",
      "                'attributes': {},\n",
      "                'tags': [],\n",
      "                'label': 'ball',\n",
      "                'bounding_box': [\n",
      "                    0.49843750000000003,\n",
      "                    0.5101851851851851,\n",
      "                    0.00625,\n",
      "                    0.010185185185185186,\n",
      "                ],\n",
      "                'mask': None,\n",
      "                'confidence': None,\n",
      "                'index': None,\n",
      "            }>,\n",
      "        ],\n",
      "    }>,\n",
      "}>, <Sample: {\n",
      "    'id': '6712d7f55670ce71ca1bd0ce',\n",
      "    'media_type': 'image',\n",
      "    'filepath': '/home/madusov/sber/data_yolo/images/train/1060000002.jpg',\n",
      "    'tags': ['train'],\n",
      "    'metadata': None,\n",
      "    'created_at': datetime.datetime(2024, 10, 18, 21, 49, 41, 374000),\n",
      "    'last_modified_at': datetime.datetime(2024, 10, 18, 21, 49, 41, 374000),\n",
      "    'ground_truth': <Detections: {\n",
      "        'detections': [\n",
      "            <Detection: {\n",
      "                'id': '6712d7f55670ce71ca1bd0ca',\n",
      "                'attributes': {},\n",
      "                'tags': [],\n",
      "                'label': 'ball',\n",
      "                'bounding_box': [\n",
      "                    0.49843750000000003,\n",
      "                    0.5101851851851851,\n",
      "                    0.00625,\n",
      "                    0.010185185185185186,\n",
      "                ],\n",
      "                'mask': None,\n",
      "                'confidence': None,\n",
      "                'index': None,\n",
      "            }>,\n",
      "        ],\n",
      "    }>,\n",
      "}>, <Sample: {\n",
      "    'id': '6712d7f55670ce71ca1bd0cf',\n",
      "    'media_type': 'image',\n",
      "    'filepath': '/home/madusov/sber/data_yolo/images/train/1060000003.jpg',\n",
      "    'tags': ['train'],\n",
      "    'metadata': None,\n",
      "    'created_at': datetime.datetime(2024, 10, 18, 21, 49, 41, 374000),\n",
      "    'last_modified_at': datetime.datetime(2024, 10, 18, 21, 49, 41, 374000),\n",
      "    'ground_truth': <Detections: {\n",
      "        'detections': [\n",
      "            <Detection: {\n",
      "                'id': '6712d7f55670ce71ca1bd0cb',\n",
      "                'attributes': {},\n",
      "                'tags': [],\n",
      "                'label': 'ball',\n",
      "                'bounding_box': [\n",
      "                    0.49843750000000003,\n",
      "                    0.5101851851851851,\n",
      "                    0.00625,\n",
      "                    0.010185185185185186,\n",
      "                ],\n",
      "                'mask': None,\n",
      "                'confidence': None,\n",
      "                'index': None,\n",
      "            }>,\n",
      "        ],\n",
      "    }>,\n",
      "}>]\n"
     ]
    }
   ],
   "source": [
    "import fiftyone as fo\n",
    "\n",
    "name = \"my-dataset\"\n",
    "dataset_dir = \"/home/madusov/sber/data_yolo\"\n",
    "\n",
    "# The splits to load\n",
    "splits = [\"train\", \"val\"]\n",
    "\n",
    "# Load the dataset, using tags to mark the samples in each split\n",
    "dataset = fo.Dataset()\n",
    "    \n",
    "dataset.add_dir(\n",
    "        dataset_dir=dataset_dir,\n",
    "        dataset_type=fo.types.YOLOv5Dataset,\n",
    "        split='train',\n",
    "        tags='train')\n",
    "\n",
    "# View summary info about the dataset\n",
    "print(dataset)\n",
    "\n",
    "# Print the first few samples in the dataset\n",
    "print(dataset.head())"
   ]
  },
  {
   "cell_type": "code",
   "execution_count": null,
   "metadata": {},
   "outputs": [],
   "source": []
  },
  {
   "cell_type": "code",
   "execution_count": null,
   "metadata": {},
   "outputs": [],
   "source": []
  },
  {
   "cell_type": "code",
   "execution_count": 8,
   "metadata": {},
   "outputs": [
    {
     "name": "stdout",
     "output_type": "stream",
     "text": [
      "Ignoring unsupported parameter 'split'\n",
      " 100% |█████████████| 42750/42750 [7.5m elapsed, 0s remaining, 35.0 samples/s]       \n"
     ]
    }
   ],
   "source": [
    "export_dir = \"/home/madusov/sber/data_coco_train\"\n",
    "\n",
    "# Export the subset\n",
    "dataset.export(\n",
    "    export_dir=export_dir,\n",
    "    dataset_type=fo.types.COCODetectionDataset,\n",
    ")\n"
   ]
  },
  {
   "cell_type": "code",
   "execution_count": 9,
   "metadata": {},
   "outputs": [
    {
     "name": "stdout",
     "output_type": "stream",
     "text": [
      " 100% |█████████████| 43500/43500 [1.7m elapsed, 0s remaining, 470.8 samples/s]      \n",
      "Name:        2024.10.19.00.59.15\n",
      "Media type:  image\n",
      "Num samples: 43500\n",
      "Persistent:  False\n",
      "Tags:        []\n",
      "Sample fields:\n",
      "    id:               fiftyone.core.fields.ObjectIdField\n",
      "    filepath:         fiftyone.core.fields.StringField\n",
      "    tags:             fiftyone.core.fields.ListField(fiftyone.core.fields.StringField)\n",
      "    metadata:         fiftyone.core.fields.EmbeddedDocumentField(fiftyone.core.metadata.ImageMetadata)\n",
      "    created_at:       fiftyone.core.fields.DateTimeField\n",
      "    last_modified_at: fiftyone.core.fields.DateTimeField\n",
      "    ground_truth:     fiftyone.core.fields.EmbeddedDocumentField(fiftyone.core.labels.Detections)\n",
      "[<Sample: {\n",
      "    'id': '6712da345670ce71ca1d17ab',\n",
      "    'media_type': 'image',\n",
      "    'filepath': '/home/madusov/sber/data_yolo/images/val/2021000001.jpg',\n",
      "    'tags': ['val'],\n",
      "    'metadata': None,\n",
      "    'created_at': datetime.datetime(2024, 10, 18, 21, 59, 16, 602000),\n",
      "    'last_modified_at': datetime.datetime(2024, 10, 18, 21, 59, 16, 602000),\n",
      "    'ground_truth': <Detections: {\n",
      "        'detections': [\n",
      "            <Detection: {\n",
      "                'id': '6712da345670ce71ca1d17aa',\n",
      "                'attributes': {},\n",
      "                'tags': [],\n",
      "                'label': 'ball',\n",
      "                'bounding_box': [\n",
      "                    0.5260416666666667,\n",
      "                    0.45185185185185184,\n",
      "                    0.005729166666666666,\n",
      "                    0.012037037037037037,\n",
      "                ],\n",
      "                'mask': None,\n",
      "                'confidence': None,\n",
      "                'index': None,\n",
      "            }>,\n",
      "        ],\n",
      "    }>,\n",
      "}>, <Sample: {\n",
      "    'id': '6712da345670ce71ca1d17b2',\n",
      "    'media_type': 'image',\n",
      "    'filepath': '/home/madusov/sber/data_yolo/images/val/2021000002.jpg',\n",
      "    'tags': ['val'],\n",
      "    'metadata': None,\n",
      "    'created_at': datetime.datetime(2024, 10, 18, 21, 59, 16, 615000),\n",
      "    'last_modified_at': datetime.datetime(2024, 10, 18, 21, 59, 16, 615000),\n",
      "    'ground_truth': <Detections: {\n",
      "        'detections': [\n",
      "            <Detection: {\n",
      "                'id': '6712da345670ce71ca1d17ac',\n",
      "                'attributes': {},\n",
      "                'tags': [],\n",
      "                'label': 'ball',\n",
      "                'bounding_box': [\n",
      "                    0.5260416666666667,\n",
      "                    0.45185185185185184,\n",
      "                    0.005729166666666666,\n",
      "                    0.012037037037037037,\n",
      "                ],\n",
      "                'mask': None,\n",
      "                'confidence': None,\n",
      "                'index': None,\n",
      "            }>,\n",
      "        ],\n",
      "    }>,\n",
      "}>, <Sample: {\n",
      "    'id': '6712da345670ce71ca1d17b3',\n",
      "    'media_type': 'image',\n",
      "    'filepath': '/home/madusov/sber/data_yolo/images/val/2021000003.jpg',\n",
      "    'tags': ['val'],\n",
      "    'metadata': None,\n",
      "    'created_at': datetime.datetime(2024, 10, 18, 21, 59, 16, 615000),\n",
      "    'last_modified_at': datetime.datetime(2024, 10, 18, 21, 59, 16, 615000),\n",
      "    'ground_truth': <Detections: {\n",
      "        'detections': [\n",
      "            <Detection: {\n",
      "                'id': '6712da345670ce71ca1d17ad',\n",
      "                'attributes': {},\n",
      "                'tags': [],\n",
      "                'label': 'ball',\n",
      "                'bounding_box': [\n",
      "                    0.5260416666666667,\n",
      "                    0.45185185185185184,\n",
      "                    0.005729166666666666,\n",
      "                    0.012037037037037037,\n",
      "                ],\n",
      "                'mask': None,\n",
      "                'confidence': None,\n",
      "                'index': None,\n",
      "            }>,\n",
      "        ],\n",
      "    }>,\n",
      "}>]\n",
      " 100% |█████████████| 43500/43500 [10.5m elapsed, 0s remaining, 75.0 samples/s]      \n"
     ]
    }
   ],
   "source": [
    "import fiftyone as fo\n",
    "\n",
    "name = \"my-dataset\"\n",
    "dataset_dir = \"/home/madusov/sber/data_yolo\"\n",
    "\n",
    "# Load the dataset, using tags to mark the samples in each split\n",
    "dataset = fo.Dataset()\n",
    "    \n",
    "dataset.add_dir(\n",
    "        dataset_dir=dataset_dir,\n",
    "        dataset_type=fo.types.YOLOv5Dataset,\n",
    "        split='val',\n",
    "        tags='val')\n",
    "\n",
    "# View summary info about the dataset\n",
    "print(dataset)\n",
    "\n",
    "# Print the first few samples in the dataset\n",
    "print(dataset.head())\n",
    "\n",
    "export_dir = \"/home/madusov/sber/data_coco_val\"\n",
    "\n",
    "# Export the subset\n",
    "dataset.export(\n",
    "    export_dir=export_dir,\n",
    "    dataset_type=fo.types.COCODetectionDataset,\n",
    ")"
   ]
  },
  {
   "cell_type": "code",
   "execution_count": null,
   "metadata": {},
   "outputs": [
    {
     "name": "stdout",
     "output_type": "stream",
     "text": [
      "indexing coco dataset annotations...\n"
     ]
    },
    {
     "name": "stderr",
     "output_type": "stream",
     "text": [
      "Loading coco annotations: 100%|██████████| 42750/42750 [00:02<00:00, 14327.43it/s]\n",
      " 53%|█████▎    | 22603/42750 [42:47<35:40,  9.41it/s]  "
     ]
    }
   ],
   "source": [
    "from sahi.slicing import slice_coco\n",
    "\n",
    "coco_dict, coco_path = slice_coco(\n",
    "    coco_annotation_file_path='/home/madusov/sber/data_coco_train/labels.json',\n",
    "    image_dir='/home/madusov/sber/data_coco_train/data',\n",
    "    output_coco_annotation_file_name='coco_sahi.json',\n",
    "    output_dir='/home/madusov/sber/data_coco_sahi_train/data',\n",
    "    slice_height=640,\n",
    "    slice_width=640,\n",
    "    overlap_height_ratio=0,\n",
    "    overlap_width_ratio=0,\n",
    ")"
   ]
  },
  {
   "cell_type": "code",
   "execution_count": 1,
   "metadata": {},
   "outputs": [
    {
     "name": "stdout",
     "output_type": "stream",
     "text": [
      "indexing coco dataset annotations...\n"
     ]
    },
    {
     "name": "stderr",
     "output_type": "stream",
     "text": [
      "Loading coco annotations: 100%|██████████| 43500/43500 [00:03<00:00, 14309.26it/s]\n",
      "100%|██████████| 43500/43500 [1:43:03<00:00,  7.03it/s]  \n"
     ]
    }
   ],
   "source": [
    "from sahi.slicing import slice_coco\n",
    "\n",
    "coco_dict, coco_path = slice_coco(\n",
    "    coco_annotation_file_path='/home/madusov/sber/data_coco_val/labels.json',\n",
    "    image_dir='/home/madusov/sber/data_coco_val/data',\n",
    "    output_coco_annotation_file_name='coco_sahi.json',\n",
    "    output_dir='/home/madusov/sber/data_coco_sahi_val/data',\n",
    "    slice_height=640,\n",
    "    slice_width=640,\n",
    "    overlap_height_ratio=0,\n",
    "    overlap_width_ratio=0,\n",
    ")"
   ]
  },
  {
   "cell_type": "code",
   "execution_count": null,
   "metadata": {},
   "outputs": [
    {
     "name": "stdout",
     "output_type": "stream",
     "text": [
      "indexing coco dataset annotations...\n"
     ]
    },
    {
     "name": "stderr",
     "output_type": "stream",
     "text": [
      "Loading coco annotations: 100%|██████████| 256500/256500 [00:05<00:00, 43607.61it/s]\n",
      "10/19/2024 18:56:26 - INFO - sahi.utils.coco -   generating image symlinks and annotation files for yolov5...\n",
      "100%|██████████| 230850/230850 [1:05:42<00:00, 58.55it/s]\n",
      "10/19/2024 20:02:08 - INFO - sahi.utils.coco -   generating image symlinks and annotation files for yolov5...\n",
      " 87%|████████▋ | 22213/25650 [10:34<01:36, 35.58it/s]"
     ]
    }
   ],
   "source": [
    "from sahi.utils.coco import Coco, export_coco_as_yolov5\n",
    "\n",
    "# init Coco object\n",
    "train_coco = Coco.from_coco_dict_or_path(\"/home/madusov/sber/data_coco_sahi_train/coco_sahi.json_coco.json\", \n",
    "                                         image_dir=\"/home/madusov/sber/data_coco_sahi_train/data\")\n",
    "#val_coco = Coco.from_coco_dict_or_path(\"val_coco.json\", image_dir=\"coco_images/\")\n",
    "\n",
    "# export converted YoloV5 formatted dataset into given output_dir with given train/val split\n",
    "data_yml_path = export_coco_as_yolov5(\n",
    "  output_dir=\"/home/madusov/sber/data_yolo_sahi_train\",\n",
    "  train_coco=train_coco,\n",
    "  disable_symlink=True\n",
    ")"
   ]
  },
  {
   "cell_type": "code",
   "execution_count": 2,
   "metadata": {},
   "outputs": [
    {
     "name": "stdout",
     "output_type": "stream",
     "text": [
      "indexing coco dataset annotations...\n"
     ]
    },
    {
     "name": "stderr",
     "output_type": "stream",
     "text": [
      "Loading coco annotations: 100%|██████████| 261000/261000 [00:05<00:00, 45142.29it/s]\n",
      "10/20/2024 14:04:00 - INFO - sahi.utils.coco -   generating image symlinks and annotation files for yolov5...\n",
      " 99%|█████████▉| 232672/234900 [2:17:53<01:19, 28.12it/s]  \n"
     ]
    },
    {
     "ename": "OSError",
     "evalue": "[Errno 122] Disk quota exceeded: '/home/madusov/sber/data_yolo_sahi_val/train/2095000477_42476_640_440_1280_1080.txt'",
     "output_type": "error",
     "traceback": [
      "\u001b[0;31m---------------------------------------------------------------------------\u001b[0m",
      "\u001b[0;31mOSError\u001b[0m                                   Traceback (most recent call last)",
      "Cell \u001b[0;32mIn[2], line 8\u001b[0m\n\u001b[1;32m      4\u001b[0m val_coco \u001b[38;5;241m=\u001b[39m Coco\u001b[38;5;241m.\u001b[39mfrom_coco_dict_or_path(\u001b[38;5;124m\"\u001b[39m\u001b[38;5;124m/home/madusov/sber/data_coco_sahi_val/coco_sahi.json_coco.json\u001b[39m\u001b[38;5;124m\"\u001b[39m, \n\u001b[1;32m      5\u001b[0m                                          image_dir\u001b[38;5;241m=\u001b[39m\u001b[38;5;124m\"\u001b[39m\u001b[38;5;124m/home/madusov/sber/data_coco_sahi_val/data\u001b[39m\u001b[38;5;124m\"\u001b[39m)\n\u001b[1;32m      7\u001b[0m \u001b[38;5;66;03m# export converted YoloV5 formatted dataset into given output_dir with given train/val split\u001b[39;00m\n\u001b[0;32m----> 8\u001b[0m data_yml_path \u001b[38;5;241m=\u001b[39m \u001b[43mexport_coco_as_yolov5\u001b[49m\u001b[43m(\u001b[49m\n\u001b[1;32m      9\u001b[0m \u001b[43m  \u001b[49m\u001b[43moutput_dir\u001b[49m\u001b[38;5;241;43m=\u001b[39;49m\u001b[38;5;124;43m\"\u001b[39;49m\u001b[38;5;124;43m/home/madusov/sber/data_yolo_sahi_val\u001b[39;49m\u001b[38;5;124;43m\"\u001b[39;49m\u001b[43m,\u001b[49m\n\u001b[1;32m     10\u001b[0m \u001b[43m  \u001b[49m\u001b[43mtrain_coco\u001b[49m\u001b[38;5;241;43m=\u001b[39;49m\u001b[43mval_coco\u001b[49m\u001b[43m,\u001b[49m\n\u001b[1;32m     11\u001b[0m \u001b[43m  \u001b[49m\u001b[43mdisable_symlink\u001b[49m\u001b[38;5;241;43m=\u001b[39;49m\u001b[38;5;28;43;01mTrue\u001b[39;49;00m\n\u001b[1;32m     12\u001b[0m \u001b[43m)\u001b[49m\n",
      "File \u001b[0;32m~/.conda/envs/yolov11/lib/python3.12/site-packages/sahi/utils/coco.py:2448\u001b[0m, in \u001b[0;36mexport_coco_as_yolov5\u001b[0;34m(output_dir, train_coco, val_coco, train_split_rate, numpy_seed, disable_symlink)\u001b[0m\n\u001b[1;32m   2445\u001b[0m val_dir\u001b[38;5;241m.\u001b[39mmkdir(parents\u001b[38;5;241m=\u001b[39m\u001b[38;5;28;01mTrue\u001b[39;00m, exist_ok\u001b[38;5;241m=\u001b[39m\u001b[38;5;28;01mTrue\u001b[39;00m)  \u001b[38;5;66;03m# create dir\u001b[39;00m\n\u001b[1;32m   2447\u001b[0m \u001b[38;5;66;03m# create image symlinks and annotation txts\u001b[39;00m\n\u001b[0;32m-> 2448\u001b[0m \u001b[43mexport_yolov5_images_and_txts_from_coco_object\u001b[49m\u001b[43m(\u001b[49m\n\u001b[1;32m   2449\u001b[0m \u001b[43m    \u001b[49m\u001b[43moutput_dir\u001b[49m\u001b[38;5;241;43m=\u001b[39;49m\u001b[43mtrain_dir\u001b[49m\u001b[43m,\u001b[49m\n\u001b[1;32m   2450\u001b[0m \u001b[43m    \u001b[49m\u001b[43mcoco\u001b[49m\u001b[38;5;241;43m=\u001b[39;49m\u001b[43mtrain_coco\u001b[49m\u001b[43m,\u001b[49m\n\u001b[1;32m   2451\u001b[0m \u001b[43m    \u001b[49m\u001b[43mignore_negative_samples\u001b[49m\u001b[38;5;241;43m=\u001b[39;49m\u001b[43mtrain_coco\u001b[49m\u001b[38;5;241;43m.\u001b[39;49m\u001b[43mignore_negative_samples\u001b[49m\u001b[43m,\u001b[49m\n\u001b[1;32m   2452\u001b[0m \u001b[43m    \u001b[49m\u001b[43mmp\u001b[49m\u001b[38;5;241;43m=\u001b[39;49m\u001b[38;5;28;43;01mFalse\u001b[39;49;00m\u001b[43m,\u001b[49m\n\u001b[1;32m   2453\u001b[0m \u001b[43m    \u001b[49m\u001b[43mdisable_symlink\u001b[49m\u001b[38;5;241;43m=\u001b[39;49m\u001b[43mdisable_symlink\u001b[49m\u001b[43m,\u001b[49m\n\u001b[1;32m   2454\u001b[0m \u001b[43m\u001b[49m\u001b[43m)\u001b[49m\n\u001b[1;32m   2455\u001b[0m export_yolov5_images_and_txts_from_coco_object(\n\u001b[1;32m   2456\u001b[0m     output_dir\u001b[38;5;241m=\u001b[39mval_dir,\n\u001b[1;32m   2457\u001b[0m     coco\u001b[38;5;241m=\u001b[39mval_coco,\n\u001b[0;32m   (...)\u001b[0m\n\u001b[1;32m   2460\u001b[0m     disable_symlink\u001b[38;5;241m=\u001b[39mdisable_symlink,\n\u001b[1;32m   2461\u001b[0m )\n\u001b[1;32m   2463\u001b[0m \u001b[38;5;66;03m# create yolov5 data yaml\u001b[39;00m\n",
      "File \u001b[0;32m~/.conda/envs/yolov11/lib/python3.12/site-packages/sahi/utils/coco.py:1635\u001b[0m, in \u001b[0;36mexport_yolov5_images_and_txts_from_coco_object\u001b[0;34m(output_dir, coco, ignore_negative_samples, mp, disable_symlink)\u001b[0m\n\u001b[1;32m   1633\u001b[0m \u001b[38;5;28;01melse\u001b[39;00m:\n\u001b[1;32m   1634\u001b[0m     \u001b[38;5;28;01mfor\u001b[39;00m coco_image \u001b[38;5;129;01min\u001b[39;00m tqdm(coco\u001b[38;5;241m.\u001b[39mimages):\n\u001b[0;32m-> 1635\u001b[0m         \u001b[43mexport_single_yolov5_image_and_corresponding_txt\u001b[49m\u001b[43m(\u001b[49m\n\u001b[1;32m   1636\u001b[0m \u001b[43m            \u001b[49m\u001b[43mcoco_image\u001b[49m\u001b[43m,\u001b[49m\u001b[43m \u001b[49m\u001b[43mcoco\u001b[49m\u001b[38;5;241;43m.\u001b[39;49m\u001b[43mimage_dir\u001b[49m\u001b[43m,\u001b[49m\u001b[43m \u001b[49m\u001b[43moutput_dir\u001b[49m\u001b[43m,\u001b[49m\u001b[43m \u001b[49m\u001b[43mignore_negative_samples\u001b[49m\u001b[43m,\u001b[49m\u001b[43m \u001b[49m\u001b[43mdisable_symlink\u001b[49m\n\u001b[1;32m   1637\u001b[0m \u001b[43m        \u001b[49m\u001b[43m)\u001b[49m\n",
      "File \u001b[0;32m~/.conda/envs/yolov11/lib/python3.12/site-packages/sahi/utils/coco.py:1710\u001b[0m, in \u001b[0;36mexport_single_yolov5_image_and_corresponding_txt\u001b[0;34m(coco_image, coco_image_dir, output_dir, ignore_negative_samples, disable_symlink)\u001b[0m\n\u001b[1;32m   1708\u001b[0m \u001b[38;5;66;03m# create annotation file\u001b[39;00m\n\u001b[1;32m   1709\u001b[0m annotations \u001b[38;5;241m=\u001b[39m coco_image\u001b[38;5;241m.\u001b[39mannotations\n\u001b[0;32m-> 1710\u001b[0m \u001b[38;5;28;01mwith\u001b[39;00m \u001b[38;5;28;43mopen\u001b[39;49m\u001b[43m(\u001b[49m\u001b[43myolo_annotation_path\u001b[49m\u001b[43m,\u001b[49m\u001b[43m \u001b[49m\u001b[38;5;124;43m\"\u001b[39;49m\u001b[38;5;124;43mw\u001b[39;49m\u001b[38;5;124;43m\"\u001b[39;49m\u001b[43m)\u001b[49m \u001b[38;5;28;01mas\u001b[39;00m outfile:\n\u001b[1;32m   1711\u001b[0m     \u001b[38;5;28;01mfor\u001b[39;00m annotation \u001b[38;5;129;01min\u001b[39;00m annotations:\n\u001b[1;32m   1712\u001b[0m         \u001b[38;5;66;03m# convert coco bbox to yolo bbox\u001b[39;00m\n\u001b[1;32m   1713\u001b[0m         x_center \u001b[38;5;241m=\u001b[39m annotation\u001b[38;5;241m.\u001b[39mbbox[\u001b[38;5;241m0\u001b[39m] \u001b[38;5;241m+\u001b[39m annotation\u001b[38;5;241m.\u001b[39mbbox[\u001b[38;5;241m2\u001b[39m] \u001b[38;5;241m/\u001b[39m \u001b[38;5;241m2.0\u001b[39m\n",
      "\u001b[0;31mOSError\u001b[0m: [Errno 122] Disk quota exceeded: '/home/madusov/sber/data_yolo_sahi_val/train/2095000477_42476_640_440_1280_1080.txt'"
     ]
    }
   ],
   "source": [
    "from sahi.utils.coco import Coco, export_coco_as_yolov5\n",
    "\n",
    "# init Coco object\n",
    "val_coco = Coco.from_coco_dict_or_path(\"/home/madusov/sber/data_coco_sahi_val/coco_sahi.json_coco.json\", \n",
    "                                         image_dir=\"/home/madusov/sber/data_coco_sahi_val/data\")\n",
    "\n",
    "# export converted YoloV5 formatted dataset into given output_dir with given train/val split\n",
    "data_yml_path = export_coco_as_yolov5(\n",
    "  output_dir=\"/home/madusov/sber/data_yolo_sahi_val\",\n",
    "  train_coco=val_coco,\n",
    "  disable_symlink=True\n",
    ")"
   ]
  },
  {
   "cell_type": "code",
   "execution_count": 2,
   "metadata": {},
   "outputs": [
    {
     "data": {
      "text/plain": [
       "'/home/madusov/sber/data_yolo_sahi_train/data.yml'"
      ]
     },
     "execution_count": 2,
     "metadata": {},
     "output_type": "execute_result"
    }
   ],
   "source": [
    "data_yml_path"
   ]
  },
  {
   "cell_type": "code",
   "execution_count": 1,
   "metadata": {},
   "outputs": [],
   "source": [
    "import shutil\n",
    "import os\n",
    "\n",
    "os.makedirs(\"/home/madusov/sber/data_yolo_sahi_train/images/train\", exist_ok=True)\n",
    "os.makedirs(\"/home/madusov/sber/data_yolo_sahi_train/images/val\", exist_ok=True)\n",
    "os.makedirs(\"/home/madusov/sber/data_yolo_sahi_train/labels/train\", exist_ok=True)\n",
    "os.makedirs(\"/home/madusov/sber/data_yolo_sahi_train/labels/val\", exist_ok=True)"
   ]
  },
  {
   "cell_type": "code",
   "execution_count": 2,
   "metadata": {},
   "outputs": [],
   "source": [
    "from tqdm import tqdm\n",
    "\n",
    "def split_labels(path_root, split):\n",
    "    for filename in tqdm(os.listdir(os.path.join(path_root, split))):\n",
    "        if filename.split('.')[-1] == 'png':\n",
    "            shutil.move(os.path.join(path_root, split, filename), os.path.join(path_root, 'images', split, filename))\n",
    "        elif filename.split('.')[-1] == 'txt':\n",
    "            shutil.move(os.path.join(path_root, split, filename), os.path.join(path_root, 'labels', split, filename))\n",
    "        else:\n",
    "            raise ValueError()"
   ]
  },
  {
   "cell_type": "code",
   "execution_count": 3,
   "metadata": {},
   "outputs": [
    {
     "name": "stderr",
     "output_type": "stream",
     "text": [
      "100%|██████████| 461754/461754 [06:14<00:00, 1233.70it/s]\n"
     ]
    }
   ],
   "source": [
    "path_root = '/home/madusov/sber/data_yolo_sahi_train'\n",
    "split = 'train'\n",
    "\n",
    "split_labels(path_root, split)"
   ]
  },
  {
   "cell_type": "code",
   "execution_count": 4,
   "metadata": {},
   "outputs": [
    {
     "name": "stderr",
     "output_type": "stream",
     "text": [
      "100%|██████████| 47415/47415 [00:39<00:00, 1196.62it/s]\n"
     ]
    }
   ],
   "source": [
    "path_root = '/home/madusov/sber/data_yolo_sahi_train'\n",
    "split = 'val'\n",
    "\n",
    "split_labels(path_root, split)"
   ]
  },
  {
   "cell_type": "code",
   "execution_count": null,
   "metadata": {},
   "outputs": [],
   "source": []
  }
 ],
 "metadata": {
  "kernelspec": {
   "display_name": "yolov11",
   "language": "python",
   "name": "python3"
  },
  "language_info": {
   "codemirror_mode": {
    "name": "ipython",
    "version": 3
   },
   "file_extension": ".py",
   "mimetype": "text/x-python",
   "name": "python",
   "nbconvert_exporter": "python",
   "pygments_lexer": "ipython3",
   "version": "3.12.7"
  }
 },
 "nbformat": 4,
 "nbformat_minor": 4
}
