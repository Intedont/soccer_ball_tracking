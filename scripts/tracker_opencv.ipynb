{
 "cells": [
  {
   "cell_type": "markdown",
   "metadata": {},
   "source": [
    "Какой то код с тестированием трекеров из opencv"
   ]
  },
  {
   "cell_type": "code",
   "execution_count": 11,
   "metadata": {},
   "outputs": [],
   "source": [
    "import cv2\n",
    "import os"
   ]
  },
  {
   "cell_type": "code",
   "execution_count": 39,
   "metadata": {},
   "outputs": [],
   "source": [
    "import json\n",
    "\n",
    "path = 'data/SoccerNetGS/train/SNGS-063/Labels-GameState.json'\n",
    "\n",
    "with open(path, 'r') as file:\n",
    "    data = json.load(file)"
   ]
  },
  {
   "cell_type": "code",
   "execution_count": 41,
   "metadata": {},
   "outputs": [
    {
     "data": {
      "text/plain": [
       "{'id': '1063000019',\n",
       " 'image_id': '1063000001',\n",
       " 'track_id': 19,\n",
       " 'supercategory': 'object',\n",
       " 'category_id': 4,\n",
       " 'attributes': {'role': 'ball', 'jersey': None, 'team': None},\n",
       " 'bbox_image': {'x': 1223,\n",
       "  'y': 560,\n",
       "  'x_center': 1230.5,\n",
       "  'y_center': 567.0,\n",
       "  'w': 15,\n",
       "  'h': 14},\n",
       " 'bbox_pitch': {'x_bottom_left': -31.060746788614278,\n",
       "  'y_bottom_left': -5.005936213015399,\n",
       "  'x_bottom_right': -30.864263206596107,\n",
       "  'y_bottom_right': -5.1148726743063175,\n",
       "  'x_bottom_middle': -30.962483824360042,\n",
       "  'y_bottom_middle': -5.0604124746186185},\n",
       " 'bbox_pitch_raw': {'x_bottom_left': -30.935325458091604,\n",
       "  'y_bottom_left': -5.6135097982387405,\n",
       "  'x_bottom_right': -30.73263712238131,\n",
       "  'y_bottom_right': -5.724171039954334,\n",
       "  'x_bottom_middle': -30.833960508641308,\n",
       "  'y_bottom_middle': -5.6688478837238065}}"
      ]
     },
     "execution_count": 41,
     "metadata": {},
     "output_type": "execute_result"
    }
   ],
   "source": [
    "data['annotations'][18]"
   ]
  },
  {
   "cell_type": "markdown",
   "metadata": {},
   "source": []
  },
  {
   "cell_type": "code",
   "execution_count": 36,
   "metadata": {},
   "outputs": [],
   "source": [
    "path_images = '/home/madusov/sber/data/SoccerNetGS/train/SNGS-063/img1'"
   ]
  },
  {
   "cell_type": "code",
   "execution_count": 37,
   "metadata": {},
   "outputs": [],
   "source": [
    "init_frame = cv2.imread(os.path.join(path_images, '000001.jpg'))"
   ]
  },
  {
   "cell_type": "code",
   "execution_count": 42,
   "metadata": {},
   "outputs": [],
   "source": [
    "(x, y, w, h) = [1223, 560, 15,14]"
   ]
  },
  {
   "cell_type": "code",
   "execution_count": null,
   "metadata": {},
   "outputs": [],
   "source": [
    "cv2.rectangle(init_frame, (x, y), (x + w, y + h), (0, 255, 0), 2)"
   ]
  },
  {
   "cell_type": "code",
   "execution_count": 44,
   "metadata": {},
   "outputs": [
    {
     "data": {
      "text/plain": [
       "True"
      ]
     },
     "execution_count": 44,
     "metadata": {},
     "output_type": "execute_result"
    }
   ],
   "source": [
    "cv2.imwrite('image.jpg', init_frame)"
   ]
  },
  {
   "cell_type": "code",
   "execution_count": 45,
   "metadata": {},
   "outputs": [
    {
     "name": "stderr",
     "output_type": "stream",
     "text": [
      "100%|██████████| 100/100 [00:13<00:00,  7.52it/s]\n"
     ]
    }
   ],
   "source": [
    "import os\n",
    "from tqdm import tqdm\n",
    "import cv2\n",
    "\n",
    "tracker = cv2.TrackerCSRT_create()\n",
    "path_images = '/home/madusov/sber/data/SoccerNetGS/train/SNGS-063/img1'\n",
    "\n",
    "#initBB = [957, 551, 12, 11]\n",
    "#initBB = [637, 394, 34,94]\n",
    "initBB = [1223, 560, 15,14]\n",
    "init_frame = cv2.imread(os.path.join(path_images, '000001.jpg'))\n",
    "\n",
    "video=cv2.VideoWriter('filename.avi',  \n",
    "                      cv2.VideoWriter_fourcc(*'MJPG'), \n",
    "                      30, (init_frame.shape[1], init_frame.shape[0])) \n",
    "\n",
    "tracker.init(init_frame, initBB)\n",
    "\n",
    "for image_name in tqdm(sorted(os.listdir(path_images))[:100]):\n",
    "    frame = cv2.imread(os.path.join(path_images, image_name))\n",
    "\n",
    "\n",
    "    if initBB is not None:\n",
    "\t\t# grab the new bounding box coordinates of the object\n",
    "        (success, box) = tracker.update(frame)\n",
    "\t\t# check to see if the tracking was a success\n",
    "        if success:\n",
    "            (x, y, w, h) = [int(v) for v in box]\n",
    "            cv2.rectangle(frame, (x, y), (x + w, y + h),\n",
    "                          (0, 255, 0), 2)\n",
    "    \n",
    "    video.write(frame)\n",
    "\n",
    "video.release()"
   ]
  },
  {
   "cell_type": "code",
   "execution_count": null,
   "metadata": {},
   "outputs": [],
   "source": []
  },
  {
   "cell_type": "markdown",
   "metadata": {},
   "source": []
  }
 ],
 "metadata": {
  "kernelspec": {
   "display_name": "tracklab",
   "language": "python",
   "name": "python3"
  },
  "language_info": {
   "codemirror_mode": {
    "name": "ipython",
    "version": 3
   },
   "file_extension": ".py",
   "mimetype": "text/x-python",
   "name": "python",
   "nbconvert_exporter": "python",
   "pygments_lexer": "ipython3",
   "version": "3.10.15"
  }
 },
 "nbformat": 4,
 "nbformat_minor": 2
}
